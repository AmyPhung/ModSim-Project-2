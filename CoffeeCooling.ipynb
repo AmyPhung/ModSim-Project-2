{
 "cells": [
  {
   "cell_type": "code",
   "execution_count": 14,
   "metadata": {},
   "outputs": [
    {
     "data": {
      "text/plain": [
       "'\\ndef heat_ice(system):\\n    unpack(system)\\n    heat_needed = m*i.c*(i.T_final-i.T_init)\\n    return heat_needed\\ndef heat_water(system):\\n    unpack(system)\\n    heat_needed = m*w.c*(w.T_final-w.T_init)\\n    return heat_needed\\ndef melt(system):\\n    unpack(system)\\n    heat_needed = m*L\\n    return heat_needed\\n'"
      ]
     },
     "execution_count": 14,
     "metadata": {},
     "output_type": "execute_result"
    }
   ],
   "source": [
    "%matplotlib inline\n",
    "\n",
    "from modsim import *\n",
    "\n",
    "#EVERYTHING IN SI UNITS, celcius\n",
    "\n",
    "\n",
    "##################THINGS TO CHANGE######################\n",
    "c_r = 30 #Rate of heat transfer from coffee to air (Joules/minute)\n",
    "c_m = .200 #Mass (kg)\n",
    "\n",
    "\n",
    "w_r = 30 #Rate of heat transfer from coffee to ice (Joules/minute)\n",
    "w_m = .01 #Mass (kg)\n",
    "\n",
    "##################INITIAL CONDITIONS######################\n",
    "c_J_init = State(nrg = 0)\n",
    "c_T_init = State(temp = 90)\n",
    "\n",
    "\n",
    "w_J_init = State(nrg = 0)\n",
    "w_T_init = State(temp = -18.0)\n",
    "\n",
    "##################SYSTEMS######################\n",
    "Coffee = System(n = 'Coffee',\n",
    "               m = c_m, r = c_r,\n",
    "               J_init = c_J_init, T_init = c_T_init)\n",
    "#H2O in any form\n",
    "\n",
    "Water = System(n = 'Water',\n",
    "               m = w_m, r = w_r, \n",
    "               J_init = w_J_init, T_init = w_T_init)\n",
    "\n",
    "##################SIMULATION VARIABLES######################\n",
    "dt = 1\n",
    "t0 = 0\n",
    "t_end = 50\n",
    "T_env = 23\n",
    "\n",
    "\n",
    "\"\"\"\n",
    "def heat_ice(system):\n",
    "    unpack(system)\n",
    "    heat_needed = m*i.c*(i.T_final-i.T_init)\n",
    "    return heat_needed\n",
    "def heat_water(system):\n",
    "    unpack(system)\n",
    "    heat_needed = m*w.c*(w.T_final-w.T_init)\n",
    "    return heat_needed\n",
    "def melt(system):\n",
    "    unpack(system)\n",
    "    heat_needed = m*L\n",
    "    return heat_needed\n",
    "\"\"\""
   ]
  },
  {
   "cell_type": "code",
   "execution_count": null,
   "metadata": {},
   "outputs": [],
   "source": []
  },
  {
   "cell_type": "code",
   "execution_count": 15,
   "metadata": {
    "collapsed": true
   },
   "outputs": [],
   "source": [
    "def convert_to_Temp(system):\n",
    "    unpack(system)\n",
    "    frame = TimeFrame(columns=T_init.index)\n",
    "    frame.loc[t0] = State(temp = convert_joules_to_temp(J_init.nrg))\n",
    "    ts = linrange(t0, t_end, dt)\n",
    "    for t in ts:\n",
    "        frame.loc[t+dt] = State(temp=convert_joules_to_temp(Water.results.loc[t].nrg))\n",
    "    system.newResults = frame"
   ]
  },
  {
   "cell_type": "code",
   "execution_count": 4,
   "metadata": {},
   "outputs": [
    {
     "ename": "NameError",
     "evalue": "name 'w' is not defined",
     "output_type": "error",
     "traceback": [
      "\u001b[1;31m---------------------------------------------------------------------------\u001b[0m",
      "\u001b[1;31mNameError\u001b[0m                                 Traceback (most recent call last)",
      "\u001b[1;32m<ipython-input-4-c4f976789438>\u001b[0m in \u001b[0;36m<module>\u001b[1;34m()\u001b[0m\n\u001b[1;32m----> 1\u001b[1;33m \u001b[0mheat_water\u001b[0m\u001b[1;33m(\u001b[0m\u001b[0mWater\u001b[0m\u001b[1;33m)\u001b[0m\u001b[1;33m\u001b[0m\u001b[0m\n\u001b[0m",
      "\u001b[1;32m<ipython-input-1-32485ebf1dd3>\u001b[0m in \u001b[0;36mheat_water\u001b[1;34m(system)\u001b[0m\n\u001b[0;32m     45\u001b[0m \u001b[1;32mdef\u001b[0m \u001b[0mheat_water\u001b[0m\u001b[1;33m(\u001b[0m\u001b[0msystem\u001b[0m\u001b[1;33m)\u001b[0m\u001b[1;33m:\u001b[0m\u001b[1;33m\u001b[0m\u001b[0m\n\u001b[0;32m     46\u001b[0m     \u001b[0munpack\u001b[0m\u001b[1;33m(\u001b[0m\u001b[0msystem\u001b[0m\u001b[1;33m)\u001b[0m\u001b[1;33m\u001b[0m\u001b[0m\n\u001b[1;32m---> 47\u001b[1;33m     \u001b[0mheat_needed\u001b[0m \u001b[1;33m=\u001b[0m \u001b[0mm\u001b[0m\u001b[1;33m*\u001b[0m\u001b[0mw\u001b[0m\u001b[1;33m.\u001b[0m\u001b[0mc\u001b[0m\u001b[1;33m*\u001b[0m\u001b[1;33m(\u001b[0m\u001b[0mw\u001b[0m\u001b[1;33m.\u001b[0m\u001b[0mT_final\u001b[0m\u001b[1;33m-\u001b[0m\u001b[0mw\u001b[0m\u001b[1;33m.\u001b[0m\u001b[0mT_init\u001b[0m\u001b[1;33m)\u001b[0m\u001b[1;33m\u001b[0m\u001b[0m\n\u001b[0m\u001b[0;32m     48\u001b[0m     \u001b[1;32mreturn\u001b[0m \u001b[0mheat_needed\u001b[0m\u001b[1;33m\u001b[0m\u001b[0m\n\u001b[0;32m     49\u001b[0m \u001b[1;32mdef\u001b[0m \u001b[0mmelt\u001b[0m\u001b[1;33m(\u001b[0m\u001b[0msystem\u001b[0m\u001b[1;33m)\u001b[0m\u001b[1;33m:\u001b[0m\u001b[1;33m\u001b[0m\u001b[0m\n",
      "\u001b[1;31mNameError\u001b[0m: name 'w' is not defined"
     ]
    }
   ],
   "source": []
  },
  {
   "cell_type": "code",
   "execution_count": 5,
   "metadata": {},
   "outputs": [
    {
     "ename": "NameError",
     "evalue": "name 'L' is not defined",
     "output_type": "error",
     "traceback": [
      "\u001b[1;31m---------------------------------------------------------------------------\u001b[0m",
      "\u001b[1;31mNameError\u001b[0m                                 Traceback (most recent call last)",
      "\u001b[1;32m<ipython-input-5-739e5fc2a304>\u001b[0m in \u001b[0;36m<module>\u001b[1;34m()\u001b[0m\n\u001b[1;32m----> 1\u001b[1;33m \u001b[0mmelt\u001b[0m\u001b[1;33m(\u001b[0m\u001b[0mWater\u001b[0m\u001b[1;33m)\u001b[0m\u001b[1;33m\u001b[0m\u001b[0m\n\u001b[0m",
      "\u001b[1;32m<ipython-input-1-32485ebf1dd3>\u001b[0m in \u001b[0;36mmelt\u001b[1;34m(system)\u001b[0m\n\u001b[0;32m     49\u001b[0m \u001b[1;32mdef\u001b[0m \u001b[0mmelt\u001b[0m\u001b[1;33m(\u001b[0m\u001b[0msystem\u001b[0m\u001b[1;33m)\u001b[0m\u001b[1;33m:\u001b[0m\u001b[1;33m\u001b[0m\u001b[0m\n\u001b[0;32m     50\u001b[0m     \u001b[0munpack\u001b[0m\u001b[1;33m(\u001b[0m\u001b[0msystem\u001b[0m\u001b[1;33m)\u001b[0m\u001b[1;33m\u001b[0m\u001b[0m\n\u001b[1;32m---> 51\u001b[1;33m     \u001b[0mheat_needed\u001b[0m \u001b[1;33m=\u001b[0m \u001b[0mm\u001b[0m\u001b[1;33m*\u001b[0m\u001b[0mL\u001b[0m\u001b[1;33m\u001b[0m\u001b[0m\n\u001b[0m\u001b[0;32m     52\u001b[0m     \u001b[1;32mreturn\u001b[0m \u001b[0mheat_needed\u001b[0m\u001b[1;33m\u001b[0m\u001b[0m\n",
      "\u001b[1;31mNameError\u001b[0m: name 'L' is not defined"
     ]
    }
   ],
   "source": []
  },
  {
   "cell_type": "code",
   "execution_count": 16,
   "metadata": {
    "collapsed": true
   },
   "outputs": [],
   "source": [
    "def update(state, system):\n",
    "    \"\"\"Update the thermal transfer model.\n",
    "    \n",
    "    state: State (temp)\n",
    "    system: System object\n",
    "    \n",
    "    returns: State (temp)\n",
    "    \"\"\"\n",
    "    unpack(system)\n",
    "    T = state.temp\n",
    "    T += -r * (T - T_env) * dt\n",
    "\n",
    "    return State(temp=T)"
   ]
  },
  {
   "cell_type": "code",
   "execution_count": 17,
   "metadata": {
    "collapsed": true
   },
   "outputs": [],
   "source": [
    "def convert_joules_to_temp(j, system):\n",
    "    if system.n == 'Water':\n",
    "        if(j < 379.44):\n",
    "            t = (j -379.44) * 18 / 379.44\n",
    "        elif(j >= 379.44 and j < (379.44 + 33333.33)):\n",
    "            t = 0\n",
    "        else:\n",
    "            t = (j - (379.44+33333.33)) / 963.01 * 23\n",
    "        return t\n",
    "    elif system.n == 'Coffee':\n",
    "        t = c_T_init - ((c_J_init - j)/(m * 4187)) \n",
    "        return t"
   ]
  },
  {
   "cell_type": "code",
   "execution_count": 18,
   "metadata": {},
   "outputs": [
    {
     "data": {
      "text/plain": [
       "23.00000000000005"
      ]
     },
     "execution_count": 18,
     "metadata": {},
     "output_type": "execute_result"
    }
   ],
   "source": [
    "convert_joules_to_temp(33333.33+963.01+379.44, Water)\n",
    "\n",
    "#convert_temp_to_joules(33333.33+963.01+379.44)"
   ]
  },
  {
   "cell_type": "code",
   "execution_count": null,
   "metadata": {
    "collapsed": true
   },
   "outputs": [],
   "source": []
  },
  {
   "cell_type": "code",
   "execution_count": 19,
   "metadata": {
    "collapsed": true
   },
   "outputs": [],
   "source": [
    "def update(state1,state2,system):\n",
    "    \"\"\"Update the thermal transfer model.\n",
    "    \n",
    "    state: State (temp)\n",
    "    system: System object\n",
    "    \n",
    "    returns: State (temp)\n",
    "    \"\"\"\n",
    "    unpack(system)\n",
    "    J = state1.nrg\n",
    "    J += -1 * r * (state2.temp - T_env) * dt\n",
    "    return State(nrg = J)"
   ]
  },
  {
   "cell_type": "code",
   "execution_count": 22,
   "metadata": {
    "collapsed": true
   },
   "outputs": [],
   "source": [
    "def run_simulation1(system, update_func):\n",
    "    \"\"\"Runs a simulation of the system.\n",
    "    \n",
    "    Add a TimeFrame to the System: results\n",
    "    \n",
    "    system: System object\n",
    "    update_func: function that updates state\n",
    "    \"\"\"\n",
    "    unpack(system)\n",
    "    \n",
    "    frame = TimeFrame(columns=J_init.index)\n",
    "    frame.loc[t0] = J_init\n",
    "    \n",
    "    ts = linrange(t0, t_end, dt)\n",
    "    frame2 = TimeFrame(columns=T_init.index)\n",
    "    frame2.loc[t0] = State(temp = convert_joules_to_temp(J_init.nrg,system))\n",
    "    for t in ts:\n",
    "        frame.loc[t+dt] = update_func(frame.loc[t],frame2.loc[t], system)\n",
    "        frame2.loc[t+dt] = State(temp=convert_joules_to_temp(frame.loc[t].nrg,system))\n",
    "    system.results = frame\n",
    "    system.newResults = frame2"
   ]
  },
  {
   "cell_type": "code",
   "execution_count": 23,
   "metadata": {},
   "outputs": [],
   "source": [
    "run_simulation1(Water,update)"
   ]
  },
  {
   "cell_type": "code",
   "execution_count": 24,
   "metadata": {},
   "outputs": [
    {
     "data": {
      "image/png": "[encoded data removed]",
      "text/plain": [
       "<matplotlib.figure.Figure at 0x24309220b70>"
      ]
     },
     "metadata": {},
     "output_type": "display_data"
    }
   ],
   "source": [
    "plot(Water.results.nrg, label='H20')\n",
    "decorate(xlabel='Time (minutes)',\n",
    "         ylabel='Joules')"
   ]
  },
  {
   "cell_type": "code",
   "execution_count": 25,
   "metadata": {},
   "outputs": [
    {
     "data": {
      "image/png": "[encoded data removed]",
      "text/plain": [
       "<matplotlib.figure.Figure at 0x24308b30cc0>"
      ]
     },
     "metadata": {},
     "output_type": "display_data"
    }
   ],
   "source": [
    "plot(Water.newResults.temp, label='H20')\n",
    "decorate(xlabel='Time (minutes)',\n",
    "         ylabel='Temperature')"
   ]
  },
  {
   "cell_type": "code",
   "execution_count": null,
   "metadata": {
    "collapsed": true
   },
   "outputs": [],
   "source": []
  },
  {
   "cell_type": "code",
   "execution_count": null,
   "metadata": {
    "collapsed": true
   },
   "outputs": [],
   "source": []
  },
  {
   "cell_type": "code",
   "execution_count": null,
   "metadata": {
    "collapsed": true
   },
   "outputs": [],
   "source": []
  }
 ],
 "metadata": {
  "kernelspec": {
   "display_name": "Python 3",
   "language": "python",
   "name": "python3"
  },
  "language_info": {
   "codemirror_mode": {
    "name": "ipython",
    "version": 3
   },
   "file_extension": ".py",
   "mimetype": "text/x-python",
   "name": "python",
   "nbconvert_exporter": "python",
   "pygments_lexer": "ipython3",
   "version": "3.6.1"
  }
 },
 "nbformat": 4,
 "nbformat_minor": 2
}
