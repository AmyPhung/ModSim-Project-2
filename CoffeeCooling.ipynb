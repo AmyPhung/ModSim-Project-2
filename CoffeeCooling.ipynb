{
 "cells": [
  {
   "cell_type": "code",
   "execution_count": 15,
   "metadata": {
    "collapsed": true
   },
   "outputs": [],
   "source": [
    "%matplotlib inline\n",
    "\n",
    "from modsim import *\n",
    "#AMY!!!\n",
    "#If you are reading this, I made a bunch of odd changes to try to get a graph that shows the temperature over time.\n",
    "#So far, i just have joules and am trying to convert the time frame to temperature, but it's taking a while\n",
    "#Unfortunately, I didn't add any comments\n",
    "#If you want to try to understand it, go ahead, also feel free to text me with any questions\n",
    "#If that is too much, we'll just handle it before monday after you get back\n",
    "#Signed,\n",
    "#Nathan\n",
    "#EVERYTHING IN SI UNITS, celcius\n",
    "\n",
    "#specific heat of water\n",
    "w_c = 4.178\n",
    "\n",
    "#ice cube system\n",
    "#m = mass\n",
    "#c = specific heat\n",
    "#random number that will be changed later r = rate in Joules per second\n",
    "r = 80\n",
    "i = System(c = 2108, T_init = -18, T_final = 0)\n",
    "#water sytem\n",
    "w = System(c = 4187, T_init = 0, T_final = 23)\n",
    "Water = System(m = 0.01, i=i, w=w, L = 3333333, r = r)\n",
    "#function: calculate heat needed to heat ice to 0C\n",
    "def heat_ice(system):\n",
    "    unpack(system)\n",
    "    heat_needed = m*i.c*(i.T_final-i.T_init)\n",
    "    return heat_needed\n",
    "def heat_water(system):\n",
    "    unpack(system)\n",
    "    heat_needed = m*w.c*(w.T_final-w.T_init)\n",
    "    return heat_needed\n",
    "def melt(system):\n",
    "    unpack(system)\n",
    "    heat_needed = m*L\n",
    "    return heat_needed"
   ]
  },
  {
   "cell_type": "code",
   "execution_count": 16,
   "metadata": {},
   "outputs": [
    {
     "data": {
      "text/plain": [
       "379.44000000000005"
      ]
     },
     "execution_count": 16,
     "metadata": {},
     "output_type": "execute_result"
    }
   ],
   "source": [
    "heat_ice(Water)"
   ]
  },
  {
   "cell_type": "code",
   "execution_count": 17,
   "metadata": {},
   "outputs": [
    {
     "data": {
      "text/plain": [
       "963.00999999999999"
      ]
     },
     "execution_count": 17,
     "metadata": {},
     "output_type": "execute_result"
    }
   ],
   "source": [
    "heat_water(Water)"
   ]
  },
  {
   "cell_type": "code",
   "execution_count": 18,
   "metadata": {},
   "outputs": [
    {
     "data": {
      "text/plain": [
       "33333.33"
      ]
     },
     "execution_count": 18,
     "metadata": {},
     "output_type": "execute_result"
    }
   ],
   "source": [
    "melt(Water)"
   ]
  },
  {
   "cell_type": "code",
   "execution_count": 19,
   "metadata": {
    "collapsed": true
   },
   "outputs": [],
   "source": [
    "def update(state, system):\n",
    "    \"\"\"Update the thermal transfer model.\n",
    "    \n",
    "    state: State (temp)\n",
    "    system: System object\n",
    "    \n",
    "    returns: State (temp)\n",
    "    \"\"\"\n",
    "    unpack(system)\n",
    "    T = state.temp\n",
    "    T += -r * (T - T_env) * dt\n",
    "\n",
    "    return State(temp=T)"
   ]
  },
  {
   "cell_type": "code",
   "execution_count": 20,
   "metadata": {
    "collapsed": true
   },
   "outputs": [],
   "source": [
    "def convert_joules_to_temp(j):\n",
    "    if(j < 379.44):\n",
    "        t = (j -379.44) * 18 / 379.44\n",
    "    elif(j >= 379.44 and j < (379.44 + 33333.33)):\n",
    "        t = 0\n",
    "    else:\n",
    "        t = (j - (379.44+33333.33)) / 963.01 * 23\n",
    "    return t"
   ]
  },
  {
   "cell_type": "code",
   "execution_count": 21,
   "metadata": {},
   "outputs": [
    {
     "ename": "NameError",
     "evalue": "name 'convert_temp_to_joules' is not defined",
     "output_type": "error",
     "traceback": [
      "\u001b[1;31m---------------------------------------------------------------------------\u001b[0m",
      "\u001b[1;31mNameError\u001b[0m                                 Traceback (most recent call last)",
      "\u001b[1;32m<ipython-input-21-b5449c7217e2>\u001b[0m in \u001b[0;36m<module>\u001b[1;34m()\u001b[0m\n\u001b[1;32m----> 1\u001b[1;33m \u001b[0mconvert_temp_to_joules\u001b[0m\u001b[1;33m(\u001b[0m\u001b[1;36m33333.33\u001b[0m\u001b[1;33m+\u001b[0m\u001b[1;36m963.01\u001b[0m\u001b[1;33m+\u001b[0m\u001b[1;36m379.44\u001b[0m\u001b[1;33m)\u001b[0m\u001b[1;33m\u001b[0m\u001b[0m\n\u001b[0m",
      "\u001b[1;31mNameError\u001b[0m: name 'convert_temp_to_joules' is not defined"
     ]
    }
   ],
   "source": [
    "convert_temp_to_joules(33333.33+963.01+379.44)"
   ]
  },
  {
   "cell_type": "code",
   "execution_count": 86,
   "metadata": {},
   "outputs": [],
   "source": [
    "#random number that will be changed later r = rate in Joules per seconds\n",
    "r = 83.333\n",
    "i = System(c = 2108, T_init = -18, T_final = 0)\n",
    "#water sytem\n",
    "J_init = State(nrg = 0)\n",
    "T_init = State(temp = -18.0)\n",
    "w = System(c = 4187, T_init = 0, T_final = 23)\n",
    "Coffee = System(m = 200, w_c = 4187, r = r, J_init = )\n",
    "Water = System(m = 0.01,i_c = 2108, w_c = 4187, L = 3333333, r = r, J_init = J_init, dt = 1, t0 = 0, t_end = 500, T_init = T_init)"
   ]
  },
  {
   "cell_type": "code",
   "execution_count": 87,
   "metadata": {
    "collapsed": true
   },
   "outputs": [],
   "source": [
    "def update(state,system):\n",
    "    \"\"\"Update the thermal transfer model.\n",
    "    \n",
    "    state: State (temp)\n",
    "    system: System object\n",
    "    \n",
    "    returns: State (temp)\n",
    "    \"\"\"\n",
    "    unpack(system)\n",
    "    J = state.nrg\n",
    "    J += r * dt\n",
    "    return State(nrg = J)"
   ]
  },
  {
   "cell_type": "code",
   "execution_count": 88,
   "metadata": {},
   "outputs": [
    {
     "ename": "TypeError",
     "evalue": "update() missing 1 required positional argument: 'system'",
     "output_type": "error",
     "traceback": [
      "\u001b[1;31m---------------------------------------------------------------------------\u001b[0m",
      "\u001b[1;31mTypeError\u001b[0m                                 Traceback (most recent call last)",
      "\u001b[1;32m<ipython-input-88-38a6cb4613e0>\u001b[0m in \u001b[0;36m<module>\u001b[1;34m()\u001b[0m\n\u001b[1;32m----> 1\u001b[1;33m \u001b[0mWater\u001b[0m \u001b[1;33m=\u001b[0m \u001b[0mupdate\u001b[0m\u001b[1;33m(\u001b[0m\u001b[0mWater\u001b[0m\u001b[1;33m)\u001b[0m\u001b[1;33m\u001b[0m\u001b[0m\n\u001b[0m\u001b[0;32m      2\u001b[0m \u001b[0mWater\u001b[0m\u001b[1;33m\u001b[0m\u001b[0m\n",
      "\u001b[1;31mTypeError\u001b[0m: update() missing 1 required positional argument: 'system'"
     ]
    }
   ],
   "source": [
    "Water = update(Water)\n",
    "Water"
   ]
  },
  {
   "cell_type": "code",
   "execution_count": 89,
   "metadata": {
    "collapsed": true
   },
   "outputs": [],
   "source": [
    "def run_simulation(system, update_func):\n",
    "    \"\"\"Runs a simulation of the system.\n",
    "    \n",
    "    Add a TimeFrame to the System: results\n",
    "    \n",
    "    system: System object\n",
    "    update_func: function that updates state\n",
    "    \"\"\"\n",
    "    unpack(system)\n",
    "    \n",
    "    frame = TimeFrame(columns=J_init.index)\n",
    "    frame.loc[t0] = J_init\n",
    "    ts = linrange(t0, t_end, dt)\n",
    "    \n",
    "    for t in ts:\n",
    "        frame.loc[t+dt] = update_func(frame.loc[t], system)\n",
    "    \n",
    "    system.results = frame"
   ]
  },
  {
   "cell_type": "code",
   "execution_count": 90,
   "metadata": {},
   "outputs": [],
   "source": [
    "def convert_to_Temp(system):\n",
    "    unpack(system)\n",
    "    frame = TimeFrame(columns=T_init.index)\n",
    "    frame.loc[t0] = State(temp = convert_joules_to_temp(J_init.nrg))\n",
    "    ts = linrange(t0, t_end, dt)\n",
    "    for t in ts:\n",
    "        frame.loc[t+dt] = State(temp=convert_joules_to_temp(Water.results.loc[t].nrg))\n",
    "    system.newResults = frame"
   ]
  },
  {
   "cell_type": "code",
   "execution_count": 91,
   "metadata": {},
   "outputs": [],
   "source": [
    "run_simulation(Water,update)\n",
    "convert_to_Temp(Water)"
   ]
  },
  {
   "cell_type": "code",
   "execution_count": 92,
   "metadata": {},
   "outputs": [
    {
     "data": {
      "image/png": "[encoded data removed]",
      "text/plain": [
       "<matplotlib.figure.Figure at 0x28407879f60>"
      ]
     },
     "metadata": {},
     "output_type": "display_data"
    }
   ],
   "source": [
    "plot(Water.results.nrg, label='H20')\n",
    "decorate(xlabel='Time (minutes)',\n",
    "         ylabel='Joules')"
   ]
  },
  {
   "cell_type": "code",
   "execution_count": 93,
   "metadata": {},
   "outputs": [
    {
     "data": {
      "image/png": "[encoded data removed]",
      "text/plain": [
       "<matplotlib.figure.Figure at 0x28407d79a20>"
      ]
     },
     "metadata": {},
     "output_type": "display_data"
    }
   ],
   "source": [
    "plot(Water.newResults.temp, label='H20')\n",
    "decorate(xlabel='Time (minutes)',\n",
    "         ylabel='Temperature')"
   ]
  },
  {
   "cell_type": "code",
   "execution_count": null,
   "metadata": {
    "collapsed": true
   },
   "outputs": [],
   "source": []
  }
 ],
 "metadata": {
  "kernelspec": {
   "display_name": "Python 3",
   "language": "python",
   "name": "python3"
  },
  "language_info": {
   "codemirror_mode": {
    "name": "ipython",
    "version": 3
   },
   "file_extension": ".py",
   "mimetype": "text/x-python",
   "name": "python",
   "nbconvert_exporter": "python",
   "pygments_lexer": "ipython3",
   "version": "3.6.1"
  }
 },
 "nbformat": 4,
 "nbformat_minor": 2
}
