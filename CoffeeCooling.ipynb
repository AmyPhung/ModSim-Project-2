{
 "cells": [
  {
   "cell_type": "code",
   "execution_count": 9,
   "metadata": {},
   "outputs": [],
   "source": [
    "%matplotlib inline\n",
    "\n",
    "from modsim import *\n",
    "\n",
    "#EVERYTHING IN SI UNITS, celcius\n",
    "\n",
    "#specific heat of water\n",
    "w_c = 4.178\n",
    "\n",
    "#ice cube system\n",
    "#m = mass\n",
    "#c = specific heat\n",
    "i = System(c = 2108, T_init = -18, T_final = 0)\n",
    "#water sytem\n",
    "w = System(c = 4187, T_init = 0, T_final = 23)\n",
    "Water = System(m = 0.01, i=i, w=w, L = 3333333)\n",
    "#function: calculate heat needed to heat ice to 0C\n",
    "def heat_ice(system):\n",
    "    unpack(system)\n",
    "    heat_needed = m*i.c*(i.T_final-i.T_init)\n",
    "    return heat_needed\n",
    "def heat_water(system):\n",
    "    unpack(system)\n",
    "    heat_needed = m*w.c*(w.T_final-w.T_init)\n",
    "    return heat_needed\n",
    "def melt(system):\n",
    "    unpack(system)\n",
    "    heat_needed = m*L\n",
    "    return heat_needed"
   ]
  },
  {
   "cell_type": "code",
   "execution_count": 10,
   "metadata": {},
   "outputs": [
    {
     "data": {
      "text/plain": [
       "379.44000000000005"
      ]
     },
     "execution_count": 10,
     "metadata": {},
     "output_type": "execute_result"
    }
   ],
   "source": [
    "heat_ice(Water)"
   ]
  },
  {
   "cell_type": "code",
   "execution_count": 11,
   "metadata": {},
   "outputs": [
    {
     "data": {
      "text/plain": [
       "963.00999999999999"
      ]
     },
     "execution_count": 11,
     "metadata": {},
     "output_type": "execute_result"
    }
   ],
   "source": [
    "heat_water(Water)"
   ]
  },
  {
   "cell_type": "code",
   "execution_count": 12,
   "metadata": {},
   "outputs": [
    {
     "data": {
      "text/plain": [
       "33333.33"
      ]
     },
     "execution_count": 12,
     "metadata": {},
     "output_type": "execute_result"
    }
   ],
   "source": [
    "melt(Water)"
   ]
  },
  {
   "cell_type": "code",
   "execution_count": null,
   "metadata": {
    "collapsed": true
   },
   "outputs": [],
   "source": []
  }
 ],
 "metadata": {
  "kernelspec": {
   "display_name": "Python 3",
   "language": "python",
   "name": "python3"
  },
  "language_info": {
   "codemirror_mode": {
    "name": "ipython",
    "version": 3
   },
   "file_extension": ".py",
   "mimetype": "text/x-python",
   "name": "python",
   "nbconvert_exporter": "python",
   "pygments_lexer": "ipython3",
   "version": "3.6.1"
  }
 },
 "nbformat": 4,
 "nbformat_minor": 2
}
