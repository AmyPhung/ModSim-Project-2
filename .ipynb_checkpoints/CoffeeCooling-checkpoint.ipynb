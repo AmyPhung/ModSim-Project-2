{
 "cells": [
  {
   "cell_type": "code",
   "execution_count": 2,
   "metadata": {
    "collapsed": true
   },
   "outputs": [],
   "source": [
    "%matplotlib inline\n",
    "\n",
    "from modsim import *\n",
    "\n",
    "#EVERYTHING IN SI UNITS, celcius\n",
    "\n",
    "#specific heat of water\n",
    "w_c = 4.178\n",
    "\n",
    "#ice cube system\n",
    "#m = mass\n",
    "#c = specific heat\n",
    "i = System(m = 0.01, c = 2.108, T_init = -18, T_final = 0)\n",
    "#hello\n",
    "#function: calculate heat needed to heat ice to 0C\n",
    "def heat_ice(system):\n",
    "    unpack(system)\n",
    "    heat_needed = m*c*(T_final-T_init)\n",
    "    return heat_needed"
   ]
  },
  {
   "cell_type": "code",
   "execution_count": 3,
   "metadata": {},
   "outputs": [
    {
     "data": {
      "text/plain": [
       "0.37944"
      ]
     },
     "execution_count": 3,
     "metadata": {},
     "output_type": "execute_result"
    }
   ],
   "source": [
    "heat_ice(i)"
   ]
  }
 ],
 "metadata": {
  "kernelspec": {
   "display_name": "Python 3",
   "language": "python",
   "name": "python3"
  },
  "language_info": {
   "codemirror_mode": {
    "name": "ipython",
    "version": 3
   },
   "file_extension": ".py",
   "mimetype": "text/x-python",
   "name": "python",
   "nbconvert_exporter": "python",
   "pygments_lexer": "ipython3",
   "version": "3.6.1"
  }
 },
 "nbformat": 4,
 "nbformat_minor": 2
}
