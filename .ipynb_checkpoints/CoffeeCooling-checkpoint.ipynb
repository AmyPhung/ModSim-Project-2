{
 "cells": [
  {
   "cell_type": "code",
   "execution_count": 133,
   "metadata": {},
   "outputs": [
    {
     "data": {
      "text/plain": [
       "'\\ndef heat_ice(system):\\n    unpack(system)\\n    heat_needed = m*i.c*(i.T_final-i.T_init)\\n    return heat_needed\\ndef heat_water(system):\\n    unpack(system)\\n    heat_needed = m*w.c*(w.T_final-w.T_init)\\n    return heat_needed\\ndef melt(system):\\n    unpack(system)\\n    heat_needed = m*L\\n    return heat_needed\\n'"
      ]
     },
     "execution_count": 133,
     "metadata": {},
     "output_type": "execute_result"
    }
   ],
   "source": [
    "%matplotlib inline\n",
    "\n",
    "from modsim import *\n",
    "\n",
    "#EVERYTHING IN SI UNITS, celcius\n",
    "\n",
    "\n",
    "##################THINGS TO CHANGE######################\n",
    "c_r = 50 #Rate of heat transfer from coffee to air (Joules/minute)\n",
    "c_m = .200 #Mass (kg)\n",
    "wc_r = \n",
    "\n",
    "w_r = 3000 #Rate of heat transfer from coffee to ice (Joules/minute)\n",
    "w_m = .01 #Mass (kg)\n",
    "\n",
    "##################INITIAL CONDITIONS######################\n",
    "c_J_init = State(nrg = 0)\n",
    "c_T_init = State(temp = 90)\n",
    "\n",
    "\n",
    "w_J_init = State(nrg = 0)\n",
    "w_T_init = State(temp = -18.0)\n",
    "\n",
    "##################SYSTEMS######################\n",
    "Coffee = System(n = 'Coffee',\n",
    "               m = c_m, r = c_r, wc_r = wc_r,\n",
    "               J_init = c_J_init, T_init = c_T_init)\n",
    "#H2O in any form\n",
    "\n",
    "Water = System(n = 'Water',\n",
    "               m = w_m, r = w_r, wc_r = wc_r, \n",
    "               J_init = w_J_init, T_init = w_T_init)\n",
    "\n",
    "##################SIMULATION VARIABLES######################\n",
    "dt = 1\n",
    "t0 = 0\n",
    "t_end = 50\n",
    "T_env = 23\n",
    "t_mix = 5\n",
    "\n",
    "\n",
    "\"\"\"\n",
    "def heat_ice(system):\n",
    "    unpack(system)\n",
    "    heat_needed = m*i.c*(i.T_final-i.T_init)\n",
    "    return heat_needed\n",
    "def heat_water(system):\n",
    "    unpack(system)\n",
    "    heat_needed = m*w.c*(w.T_final-w.T_init)\n",
    "    return heat_needed\n",
    "def melt(system):\n",
    "    unpack(system)\n",
    "    heat_needed = m*L\n",
    "    return heat_needed\n",
    "\"\"\""
   ]
  },
  {
   "cell_type": "code",
   "execution_count": 3,
   "metadata": {
    "collapsed": true
   },
   "outputs": [],
   "source": [
    "def convert_to_Temp(system):\n",
    "    unpack(system)\n",
    "    frame = TimeFrame(columns=T_init.index)\n",
    "    frame.loc[t0] = State(temp = convert_joules_to_temp(J_init.nrg))\n",
    "    ts = linrange(t0, t_end, dt)\n",
    "    for t in ts:\n",
    "        frame.loc[t+dt] = State(temp=convert_joules_to_temp(Water.results.loc[t].nrg))\n",
    "    system.newResults = frame"
   ]
  },
  {
   "cell_type": "code",
   "execution_count": 4,
   "metadata": {
    "collapsed": true
   },
   "outputs": [],
   "source": [
    "def update(state, system):\n",
    "    \"\"\"Update the thermal transfer model.\n",
    "    \n",
    "    state: State (temp)\n",
    "    system: System object\n",
    "    \n",
    "    returns: State (temp)\n",
    "    \"\"\"\n",
    "    unpack(system)\n",
    "    T = state.temp\n",
    "    T += -r * (T - T_env) * dt\n",
    "\n",
    "    return State(temp=T)"
   ]
  },
  {
   "cell_type": "code",
   "execution_count": 107,
   "metadata": {
    "collapsed": true
   },
   "outputs": [],
   "source": [
    "def convert_joules_to_temp(j, system):\n",
    "    unpack(system)\n",
    "    if system.n == 'Water':\n",
    "        t = None\n",
    "        if(j < 379.44):\n",
    "            t = (j -379.44) * 18 / 379.44\n",
    "        elif(j >= 379.44 and j < (379.44 + 33333.33)):\n",
    "            t = 0\n",
    "        else:\n",
    "            t = (j - (379.44+33333.33)) / 963.01 * 23\n",
    "        return t\n",
    "    elif system.n == 'Coffee':\n",
    "        t = T_init.temp - ((J_init.nrg - j)/(m * 4187))\n",
    "        return t"
   ]
  },
  {
   "cell_type": "code",
   "execution_count": 59,
   "metadata": {},
   "outputs": [
    {
     "data": {
      "text/plain": [
       "87.850489610699782"
      ]
     },
     "execution_count": 59,
     "metadata": {},
     "output_type": "execute_result"
    }
   ],
   "source": [
    "convert_joules_to_temp(-1800, Coffee)\n",
    "#convert_temp_to_joules(33333.33+963.01+379.44)"
   ]
  },
  {
   "cell_type": "code",
   "execution_count": 121,
   "metadata": {},
   "outputs": [],
   "source": [
    "def update(state1,state2, state3,system,t):\n",
    "    \"\"\"Update the thermal transfer model.\n",
    "    \n",
    "    state: State (temp)\n",
    "    system: System object\n",
    "    \n",
    "    returns: State (temp)\n",
    "    \"\"\"\n",
    "    unpack(system)\n",
    "    \n",
    "    J = state1.nrg\n",
    "    if(t < t_mix or n == 'Coffee'):\n",
    "        J += -1 * r * m*(state2.temp - T_env) * dt\n",
    "    elif(t >= t_mix):\n",
    "        J += -1 * wc_r * m *(state2.temp - state3.temp) * dt\n",
    "    return State(nrg = J)"
   ]
  },
  {
   "cell_type": "code",
   "execution_count": 126,
   "metadata": {},
   "outputs": [],
   "source": [
    "def run_simulation1(system_w, system_c, update_func):\n",
    "    \"\"\"Runs a simulation of the system.\n",
    "    \n",
    "    Add a TimeFrame to the System: results\n",
    "    \n",
    "    system: System object\n",
    "    update_func: function that updates state\n",
    "    \"\"\"\n",
    "    \n",
    "    w_frame = TimeFrame(columns=system_w.J_init.index)\n",
    "    w_frame.loc[t0] = system_w.J_init\n",
    "    w_frame2 = TimeFrame(columns=system_w.T_init.index)\n",
    "    w_frame2.loc[t0] = State(temp = convert_joules_to_temp(system_w.J_init.nrg,system_w))   \n",
    "    c_frame = TimeFrame(columns=system_c.J_init.index)\n",
    "    c_frame.loc[t0] = system_c.J_init\n",
    "    c_frame2 = TimeFrame(columns=system_c.T_init.index)\n",
    "    c_frame2.loc[t0] = State(temp = convert_joules_to_temp(system_c.J_init.nrg,system_c))  \n",
    "    ts = linrange(t0, t_end, dt)\n",
    "\n",
    "    for t in ts:\n",
    "        w_frame.loc[t+dt] = update_func(w_frame.loc[t],w_frame2.loc[t],c_frame2.loc[t], system_w,t)\n",
    "        w_frame2.loc[t+dt] = State(temp=convert_joules_to_temp(w_frame.loc[t].nrg,system_w))\n",
    "        c_frame.loc[t+dt] = update_func(c_frame.loc[t],c_frame2.loc[t], w_frame2.loc[t],system_c,t)\n",
    "        c_frame2.loc[t+dt] = State(temp=convert_joules_to_temp(c_frame.loc[t].nrg,system_c))\n",
    "    system_w.results = w_frame\n",
    "    system_w.newResults = w_frame2\n",
    "    system_c.results = c_frame\n",
    "    system_c.newResults = c_frame2"
   ]
  },
  {
   "cell_type": "code",
   "execution_count": 134,
   "metadata": {},
   "outputs": [
    {
     "name": "stdout",
     "output_type": "stream",
     "text": [
      "0     90.000000\n",
      "1     90.000000\n",
      "2     89.199904\n",
      "3     88.399809\n",
      "4     87.609268\n",
      "5     86.828281\n",
      "6     86.056735\n",
      "7     85.294516\n",
      "8     84.541509\n",
      "9     83.797606\n",
      "10    83.062694\n",
      "11    82.336666\n",
      "12    81.619413\n",
      "13    80.910831\n",
      "14    80.210814\n",
      "15    79.519259\n",
      "16    78.836063\n",
      "17    78.161126\n",
      "18    77.494347\n",
      "19    76.835628\n",
      "20    76.184872\n",
      "21    75.541981\n",
      "22    74.906862\n",
      "23    74.279421\n",
      "24    73.659563\n",
      "25    73.047198\n",
      "26    72.442236\n",
      "27    71.844586\n",
      "28    71.254160\n",
      "29    70.670872\n",
      "30    70.094634\n",
      "31    69.525362\n",
      "32    68.962970\n",
      "33    68.407377\n",
      "34    67.858500\n",
      "35    67.316258\n",
      "36    66.780570\n",
      "37    66.251357\n",
      "38    65.728542\n",
      "39    65.212046\n",
      "40    64.701794\n",
      "41    64.197709\n",
      "42    63.699718\n",
      "43    63.207746\n",
      "44    62.721721\n",
      "45    62.241571\n",
      "46    61.767226\n",
      "47    61.298614\n",
      "48    60.835666\n",
      "49    60.378315\n",
      "50    59.926491\n",
      "51    59.480130\n",
      "Name: temp, dtype: float64\n"
     ]
    }
   ],
   "source": [
    "run_simulation1(Water,Coffee,update)\n",
    "print (Coffee.newResults.temp)"
   ]
  },
  {
   "cell_type": "code",
   "execution_count": 135,
   "metadata": {},
   "outputs": [
    {
     "data": {
      "image/png": "[encoded data removed]",
      "text/plain": [
       "<matplotlib.figure.Figure at 0x21721ab3908>"
      ]
     },
     "metadata": {},
     "output_type": "display_data"
    }
   ],
   "source": [
    "plot(Water.results.nrg, label='H20')\n",
    "decorate(xlabel='Time (minutes)',\n",
    "         ylabel='Joules')"
   ]
  },
  {
   "cell_type": "code",
   "execution_count": 136,
   "metadata": {},
   "outputs": [
    {
     "data": {
      "image/png": "[encoded data removed]",
      "text/plain": [
       "<matplotlib.figure.Figure at 0x21721f8fa90>"
      ]
     },
     "metadata": {},
     "output_type": "display_data"
    }
   ],
   "source": [
    "plot(Water.newResults.temp, label='H20')\n",
    "decorate(xlabel='Time (minutes)',\n",
    "         ylabel='Temperature')"
   ]
  },
  {
   "cell_type": "code",
   "execution_count": null,
   "metadata": {
    "collapsed": true
   },
   "outputs": [],
   "source": []
  },
  {
   "cell_type": "code",
   "execution_count": null,
   "metadata": {
    "collapsed": true
   },
   "outputs": [],
   "source": []
  },
  {
   "cell_type": "code",
   "execution_count": null,
   "metadata": {
    "collapsed": true
   },
   "outputs": [],
   "source": []
  }
 ],
 "metadata": {
  "kernelspec": {
   "display_name": "Python 3",
   "language": "python",
   "name": "python3"
  },
  "language_info": {
   "codemirror_mode": {
    "name": "ipython",
    "version": 3
   },
   "file_extension": ".py",
   "mimetype": "text/x-python",
   "name": "python",
   "nbconvert_exporter": "python",
   "pygments_lexer": "ipython3",
   "version": "3.6.1"
  }
 },
 "nbformat": 4,
 "nbformat_minor": 2
}
